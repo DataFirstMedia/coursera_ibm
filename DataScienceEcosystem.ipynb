{
 "cells": [
  {
   "cell_type": "markdown",
   "id": "e6a7bcbe-b207-47fe-b105-24d51eef8a86",
   "metadata": {},
   "source": [
    "Exercise 2: Create markdown cell with title of the notebook"
   ]
  },
  {
   "cell_type": "markdown",
   "id": "8c375f70-26f2-456f-902d-351712afa625",
   "metadata": {},
   "source": [
    "# Data Science Tools and Ecosystem"
   ]
  },
  {
   "cell_type": "markdown",
   "id": "c5499e34-773d-4f2d-94ec-1b1fc45b7977",
   "metadata": {},
   "source": [
    "Exercise 11 - Create a markdown cell to indicate the Author's name"
   ]
  },
  {
   "cell_type": "markdown",
   "id": "c4f050f0-795b-4d40-b890-84a96ad2f44b",
   "metadata": {},
   "source": [
    "## Author\n",
    "Brennan Ruby"
   ]
  },
  {
   "cell_type": "markdown",
   "id": "c531bb07-001a-49de-9847-5e90f8321692",
   "metadata": {},
   "source": [
    "Exercise 3 - Create a markdown cell for an introduction"
   ]
  },
  {
   "cell_type": "markdown",
   "id": "cc050510-0d33-482e-9cbf-0a22cb5472fc",
   "metadata": {},
   "source": [
    "In this notebook, Data Science Tools and Ecosystem are summarized."
   ]
  },
  {
   "cell_type": "markdown",
   "id": "62d1ff9f-af3b-492a-b61c-8c5d1ca39972",
   "metadata": {},
   "source": [
    "Exercise 10 - Insert a markdown cell to list Objectives"
   ]
  },
  {
   "cell_type": "markdown",
   "id": "2d2bcb12-b72f-4ea7-943e-babf012858dc",
   "metadata": {},
   "source": [
    "Objectives:\n",
    "\n",
    "+ List popular data science languages\n",
    "+ List popular data science tools\n",
    "+ Introductory code for simple arithmetic\n",
    "+ Simple markdown syntax overview"
   ]
  },
  {
   "cell_type": "markdown",
   "id": "8889c4f9-cdf8-4ba9-af7a-add313787b1d",
   "metadata": {},
   "source": [
    "Exercise 4 - Create a markdown cell to list data science languages"
   ]
  },
  {
   "cell_type": "markdown",
   "id": "ac741e0f-5f43-4746-93ca-f178c4e4a3dd",
   "metadata": {},
   "source": [
    "Some of the popular languages that Data Scientists use are:\n",
    "\n",
    "1. python\n",
    "2. R\n",
    "3. SQL"
   ]
  },
  {
   "cell_type": "markdown",
   "id": "b834aa1c-6557-474b-a826-5bb3692fb2a1",
   "metadata": {},
   "source": [
    "Exercise 5 - Create a markdown cell to list data science libraries"
   ]
  },
  {
   "cell_type": "markdown",
   "id": "549f7067-9ebe-4d41-9ee0-4a7a732d8fb1",
   "metadata": {},
   "source": [
    "Some of the commonly used libraries used by Data Scientists include:\n",
    "\n",
    "1. pandas\n",
    "2. numpy\n",
    "3. ggplot"
   ]
  },
  {
   "cell_type": "markdown",
   "id": "4f85c59b-41bb-407c-9a3c-231c5a10cda8",
   "metadata": {},
   "source": [
    "Exercise 6 - Create a markdown cell with a table of Data Science tools"
   ]
  },
  {
   "cell_type": "markdown",
   "id": "2dec5c6b-3691-4926-a8af-5c293a9631f0",
   "metadata": {},
   "source": [
    "|Data Science Tools|\n",
    "|------------------|\n",
    "|VS Code|\n",
    "|GitHub|\n",
    "|ChatGPT/AI|"
   ]
  },
  {
   "cell_type": "markdown",
   "id": "1696e8c4-49be-44af-bb61-f11d523ba030",
   "metadata": {},
   "source": [
    "Exercise 7 - Create a markdown cell introducing arithmetic expression examples"
   ]
  },
  {
   "cell_type": "markdown",
   "id": "2e23d8ac-16ef-4af8-baf1-be252ef59b64",
   "metadata": {},
   "source": [
    "### Below are a few examples of evaluating arithmetic expressions in Python"
   ]
  },
  {
   "cell_type": "markdown",
   "id": "9c364d95-dede-4606-bf7f-20bf26406efc",
   "metadata": {},
   "source": [
    "Exercise 8 - Create a code cell to multiply and add numbers"
   ]
  },
  {
   "cell_type": "code",
   "execution_count": 2,
   "id": "2d570d30-ab67-4237-a637-ab751e5a043b",
   "metadata": {},
   "outputs": [
    {
     "name": "stdout",
     "output_type": "stream",
     "text": [
      "17\n"
     ]
    }
   ],
   "source": [
    "#This a simple arithmetic expression to mutiply then add integers\n",
    "x = (3*4)+5\n",
    "print(x)"
   ]
  },
  {
   "cell_type": "markdown",
   "id": "0a8bc01e-e936-41cc-a9bf-69c1d2ef85a8",
   "metadata": {},
   "source": [
    "Exercise 9 - Create a code cell to convert minutes to hours"
   ]
  },
  {
   "cell_type": "code",
   "execution_count": 6,
   "id": "1980adc7-d384-4f94-954c-c494990ed14d",
   "metadata": {},
   "outputs": [
    {
     "name": "stdout",
     "output_type": "stream",
     "text": [
      "3.3333333333333335 hours\n"
     ]
    }
   ],
   "source": [
    "#This will convert 200 minutes to hours by diving by 60\n",
    "t = 200 / 60\n",
    "\n",
    "print(f\"{t} hours\")"
   ]
  },
  {
   "cell_type": "code",
   "execution_count": null,
   "id": "e16a03d0-ab3b-4a09-b2bb-b41a91a0321f",
   "metadata": {},
   "outputs": [],
   "source": []
  }
 ],
 "metadata": {
  "kernelspec": {
   "display_name": "Python 3 (ipykernel)",
   "language": "python",
   "name": "python3"
  },
  "language_info": {
   "codemirror_mode": {
    "name": "ipython",
    "version": 3
   },
   "file_extension": ".py",
   "mimetype": "text/x-python",
   "name": "python",
   "nbconvert_exporter": "python",
   "pygments_lexer": "ipython3",
   "version": "3.10.7"
  }
 },
 "nbformat": 4,
 "nbformat_minor": 5
}
